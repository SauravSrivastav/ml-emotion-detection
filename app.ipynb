{
 "cells": [
  {
   "cell_type": "code",
   "execution_count": 2,
   "metadata": {},
   "outputs": [
    {
     "name": "stderr",
     "output_type": "stream",
     "text": [
      "2025-03-06 18:01:37.388381: I external/local_xla/xla/tsl/cuda/cudart_stub.cc:32] Could not find cuda drivers on your machine, GPU will not be used.\n",
      "2025-03-06 18:01:37.393016: I external/local_xla/xla/tsl/cuda/cudart_stub.cc:32] Could not find cuda drivers on your machine, GPU will not be used.\n",
      "2025-03-06 18:01:37.409372: E external/local_xla/xla/stream_executor/cuda/cuda_fft.cc:477] Unable to register cuFFT factory: Attempting to register factory for plugin cuFFT when one has already been registered\n",
      "WARNING: All log messages before absl::InitializeLog() is called are written to STDERR\n",
      "E0000 00:00:1741284097.436880   47646 cuda_dnn.cc:8310] Unable to register cuDNN factory: Attempting to register factory for plugin cuDNN when one has already been registered\n",
      "E0000 00:00:1741284097.445534   47646 cuda_blas.cc:1418] Unable to register cuBLAS factory: Attempting to register factory for plugin cuBLAS when one has already been registered\n",
      "2025-03-06 18:01:37.472425: I tensorflow/core/platform/cpu_feature_guard.cc:210] This TensorFlow binary is optimized to use available CPU instructions in performance-critical operations.\n",
      "To enable the following instructions: AVX2 FMA, in other operations, rebuild TensorFlow with the appropriate compiler flags.\n"
     ]
    }
   ],
   "source": [
    "import numpy as np  #Importing NumPy for numerical operations\n",
    "import pandas as pd  #Importing pandas for data manipulation and analysis\n",
    "import re  #Importing regular expressions for text preprocessing\n",
    "import matplotlib.pyplot as plt  #Importing Matplotlib for data visualization\n",
    "\n",
    "#Importing the Tokenizer to convert text into sequences of integers\n",
    "from tensorflow.keras.preprocessing.text import Tokenizer\n",
    "\n",
    "#Importing pad_sequences to ensure sequences have the same length\n",
    "from tensorflow.keras.preprocessing.sequence import pad_sequences\n",
    "\n",
    "#Importing LabelEncoder to convert categorical labels into numerical values\n",
    "from sklearn.preprocessing import LabelEncoder\n",
    "\n",
    "#Importing train_test_split to split the dataset into training and test sets\n",
    "from sklearn.model_selection import train_test_split\n",
    "\n",
    "#Importing Sequential to build a linear stack of layers for the model\n",
    "from tensorflow.keras.models import Sequential\n",
    "\n",
    "#Importing various layers for building the neural network\n",
    "from tensorflow.keras.layers import Embedding, Dense, LSTM, Dropout, Bidirectional, BatchNormalization\n",
    "\n",
    "#Importing the Adam optimizer for compiling the model\n",
    "from tensorflow.keras.optimizers import Adam\n",
    "\n",
    "#Importing RandomOverSampler to handle class imbalances by oversampling minority classes\n",
    "from imblearn.over_sampling import RandomOverSampler\n",
    "\n",
    "#Importing Counter to count the occurrences of each class\n",
    "from collections import Counter"
   ]
  },
  {
   "cell_type": "code",
   "execution_count": 3,
   "metadata": {},
   "outputs": [],
   "source": [
    "# Reading a CSV file into a DataFrame (you'll need to specify the file path)\n",
    "data = pd.read_csv('emotion_dataset.csv')  # Replace 'file_path.csv' with your actual file path"
   ]
  },
  {
   "cell_type": "code",
   "execution_count": 4,
   "metadata": {},
   "outputs": [
    {
     "data": {
      "text/html": [
       "<div>\n",
       "<style scoped>\n",
       "    .dataframe tbody tr th:only-of-type {\n",
       "        vertical-align: middle;\n",
       "    }\n",
       "\n",
       "    .dataframe tbody tr th {\n",
       "        vertical-align: top;\n",
       "    }\n",
       "\n",
       "    .dataframe thead th {\n",
       "        text-align: right;\n",
       "    }\n",
       "</style>\n",
       "<table border=\"1\" class=\"dataframe\">\n",
       "  <thead>\n",
       "    <tr style=\"text-align: right;\">\n",
       "      <th></th>\n",
       "      <th>text</th>\n",
       "      <th>label</th>\n",
       "    </tr>\n",
       "  </thead>\n",
       "  <tbody>\n",
       "    <tr>\n",
       "      <th>0</th>\n",
       "      <td>i didnt feel humiliated</td>\n",
       "      <td>sadness</td>\n",
       "    </tr>\n",
       "    <tr>\n",
       "      <th>1</th>\n",
       "      <td>i can go from feeling so hopeless to so damned...</td>\n",
       "      <td>sadness</td>\n",
       "    </tr>\n",
       "    <tr>\n",
       "      <th>2</th>\n",
       "      <td>im grabbing a minute to post i feel greedy wrong</td>\n",
       "      <td>anger</td>\n",
       "    </tr>\n",
       "    <tr>\n",
       "      <th>3</th>\n",
       "      <td>i am ever feeling nostalgic about the fireplac...</td>\n",
       "      <td>love</td>\n",
       "    </tr>\n",
       "    <tr>\n",
       "      <th>4</th>\n",
       "      <td>i am feeling grouchy</td>\n",
       "      <td>anger</td>\n",
       "    </tr>\n",
       "  </tbody>\n",
       "</table>\n",
       "</div>"
      ],
      "text/plain": [
       "                                                text    label\n",
       "0                            i didnt feel humiliated  sadness\n",
       "1  i can go from feeling so hopeless to so damned...  sadness\n",
       "2   im grabbing a minute to post i feel greedy wrong    anger\n",
       "3  i am ever feeling nostalgic about the fireplac...     love\n",
       "4                               i am feeling grouchy    anger"
      ]
     },
     "execution_count": 4,
     "metadata": {},
     "output_type": "execute_result"
    }
   ],
   "source": [
    "data.head()  # Displaying the first few rows of the dataset"
   ]
  },
  {
   "cell_type": "code",
   "execution_count": 5,
   "metadata": {},
   "outputs": [],
   "source": [
    "# Function to preprocess text data\n",
    "def preprocess_text(text):\n",
    "    text = text.lower()  # Convert text to lowercase\n",
    "    text = re.sub(r'http\\S+', '', text)  # Remove URLs\n",
    "    text = re.sub(r'@\\w+', '', text)  # Remove mentions\n",
    "    text = re.sub(r'#\\w+', '', text)  # Remove hashtags\n",
    "    text = re.sub(r'[^a-z\\s]', '', text)  # Remove special characters and numbers\n",
    "    text = re.sub(r'\\s+', ' ', text).strip()  # Remove extra whitespaces\n",
    "    return text\n",
    "\n",
    "# Apply text preprocessing to the 'text' column\n",
    "data['text'] = data['text'].astype(str).apply(preprocess_text)"
   ]
  },
  {
   "cell_type": "code",
   "execution_count": 6,
   "metadata": {},
   "outputs": [],
   "source": [
    "# Initialize and apply label encoding to the 'label' column\n",
    "label_encoder = LabelEncoder()\n",
    "data['label'] = label_encoder.fit_transform(data['label'])"
   ]
  },
  {
   "cell_type": "code",
   "execution_count": 7,
   "metadata": {},
   "outputs": [
    {
     "data": {
      "text/html": [
       "<div>\n",
       "<style scoped>\n",
       "    .dataframe tbody tr th:only-of-type {\n",
       "        vertical-align: middle;\n",
       "    }\n",
       "\n",
       "    .dataframe tbody tr th {\n",
       "        vertical-align: top;\n",
       "    }\n",
       "\n",
       "    .dataframe thead th {\n",
       "        text-align: right;\n",
       "    }\n",
       "</style>\n",
       "<table border=\"1\" class=\"dataframe\">\n",
       "  <thead>\n",
       "    <tr style=\"text-align: right;\">\n",
       "      <th></th>\n",
       "      <th>text</th>\n",
       "      <th>label</th>\n",
       "    </tr>\n",
       "  </thead>\n",
       "  <tbody>\n",
       "    <tr>\n",
       "      <th>0</th>\n",
       "      <td>i didnt feel humiliated</td>\n",
       "      <td>3</td>\n",
       "    </tr>\n",
       "    <tr>\n",
       "      <th>1</th>\n",
       "      <td>i can go from feeling so hopeless to so damned...</td>\n",
       "      <td>3</td>\n",
       "    </tr>\n",
       "    <tr>\n",
       "      <th>2</th>\n",
       "      <td>im grabbing a minute to post i feel greedy wrong</td>\n",
       "      <td>0</td>\n",
       "    </tr>\n",
       "    <tr>\n",
       "      <th>3</th>\n",
       "      <td>i am ever feeling nostalgic about the fireplac...</td>\n",
       "      <td>2</td>\n",
       "    </tr>\n",
       "    <tr>\n",
       "      <th>4</th>\n",
       "      <td>i am feeling grouchy</td>\n",
       "      <td>0</td>\n",
       "    </tr>\n",
       "  </tbody>\n",
       "</table>\n",
       "</div>"
      ],
      "text/plain": [
       "                                                text  label\n",
       "0                            i didnt feel humiliated      3\n",
       "1  i can go from feeling so hopeless to so damned...      3\n",
       "2   im grabbing a minute to post i feel greedy wrong      0\n",
       "3  i am ever feeling nostalgic about the fireplac...      2\n",
       "4                               i am feeling grouchy      0"
      ]
     },
     "execution_count": 7,
     "metadata": {},
     "output_type": "execute_result"
    }
   ],
   "source": [
    "data.head()  # Displaying the first few rows of the dataset"
   ]
  },
  {
   "cell_type": "code",
   "execution_count": 8,
   "metadata": {},
   "outputs": [
    {
     "data": {
      "image/png": "[encoded data removed]",
      "text/plain": [
       "<Figure size 600x400 with 1 Axes>"
      ]
     },
     "metadata": {},
     "output_type": "display_data"
    }
   ],
   "source": [
    "# Visualize class distribution before balancing\n",
    "plt.figure(figsize=(6, 4))  # Set figure size\n",
    "plt.bar(Counter(data['label']).keys(), Counter(data['label']).values())  # Plot a bar chart of label counts\n",
    "plt.title(\"Class Distribution Before Balancing\")  # Set plot title\n",
    "plt.xlabel(\"Emotion Label\")  # Set x-axis label\n",
    "plt.ylabel(\"Count\")  # Set y-axis label\n",
    "plt.show()  # Show the plot"
   ]
  },
  {
   "cell_type": "code",
   "execution_count": 9,
   "metadata": {},
   "outputs": [],
   "source": [
    "# Initialize a Tokenizer object to convert text into sequences of integers\n",
    "tokenizer = Tokenizer()\n",
    "# Fit the tokenizer on the text data to build the vocabulary\n",
    "tokenizer.fit_on_texts(data[\"text\"])\n",
    "# Calculate the vocabulary size by getting the length of the word index and adding 1 for the padding token\n",
    "vocab_size = len(tokenizer.word_index) + 1\n",
    "# Define the maximum length of sequences for padding\n",
    "max_length = 100\n",
    "\n",
    "# Convert the text data into sequences of integers based on the tokenizer's vocabulary\n",
    "X = tokenizer.texts_to_sequences(data[\"text\"])\n",
    "# Pad the sequences to ensure they are all of the same length (max_length)\n",
    "X = pad_sequences(X, maxlen=max_length, padding='post')\n",
    "# Extract the labels from the data\n",
    "y = data[\"label\"].values"
   ]
  },
  {
   "cell_type": "code",
   "execution_count": 10,
   "metadata": {},
   "outputs": [],
   "source": [
    "# Randomly oversample the data to balance the class distribution\n",
    "ros = RandomOverSampler(random_state=42)\n",
    "X_resampled, y_resampled = ros.fit_resample(X, y)"
   ]
  },
  {
   "cell_type": "code",
   "execution_count": 11,
   "metadata": {},
   "outputs": [
    {
     "data": {
      "image/png": "[encoded data removed]",
      "text/plain": [
       "<Figure size 600x400 with 1 Axes>"
      ]
     },
     "metadata": {},
     "output_type": "display_data"
    }
   ],
   "source": [
    "# Plot the class distribution after balancing\n",
    "plt.figure(figsize=(6, 4))\n",
    "# Create a bar chart showing the count of each class label\n",
    "plt.bar(Counter(y_resampled).keys(), Counter(y_resampled).values())\n",
    "plt.title(\"Class Distribution after balancing\")\n",
    "plt.xlabel(\"Emotion Label\")\n",
    "plt.ylabel(\"Count\")\n",
    "plt.show()"
   ]
  },
  {
   "cell_type": "code",
   "execution_count": 12,
   "metadata": {},
   "outputs": [],
   "source": [
    "# Split the resampled data into training and testing sets\n",
    "X_train, X_test, y_train, y_test = train_test_split(X_resampled, y_resampled, test_size=0.2, random_state=42)"
   ]
  },
  {
   "cell_type": "code",
   "execution_count": 13,
   "metadata": {},
   "outputs": [
    {
     "name": "stderr",
     "output_type": "stream",
     "text": [
      "/workspaces/ml-emotion-detection/venv/lib/python3.12/site-packages/keras/src/layers/core/embedding.py:90: UserWarning: Argument `input_length` is deprecated. Just remove it.\n",
      "  warnings.warn(\n",
      "2025-03-06 18:02:18.333652: E external/local_xla/xla/stream_executor/cuda/cuda_driver.cc:152] failed call to cuInit: INTERNAL: CUDA error: Failed call to cuInit: UNKNOWN ERROR (303)\n"
     ]
    }
   ],
   "source": [
    "# Define the LSTM model architecture\n",
    "model = Sequential([\n",
    "    # Embedding layer to convert integer sequences into dense vectors of fixed size\n",
    "    Embedding(input_dim=vocab_size, output_dim=200, input_length=max_length),\n",
    "    # First Bidirectional LSTM layer with 128 units, returning sequences for the next LSTM layer\n",
    "    Bidirectional(LSTM(128, return_sequences=True)),\n",
    "    # Batch normalization to stabilize and speed up training\n",
    "    BatchNormalization(),\n",
    "    # Dropout layer to prevent overfitting by randomly setting 30% of the input units to 0\n",
    "    Dropout(0.3),\n",
    "    # Second Bidirectional LSTM layer with 64 units\n",
    "    Bidirectional(LSTM(64)),\n",
    "    # Batch normalization\n",
    "    BatchNormalization(),\n",
    "    # Dropout layer\n",
    "    Dropout(0.3),\n",
    "    # Dense layer with 32 units and ReLU activation function\n",
    "    Dense(32, activation='relu'),\n",
    "    # Batch normalization\n",
    "    BatchNormalization(),\n",
    "    # Output dense layer with softmax activation for multi-class classification\n",
    "    Dense(len(np.unique(y_resampled)), activation='softmax')\n",
    "])"
   ]
  },
  {
   "cell_type": "code",
   "execution_count": 14,
   "metadata": {},
   "outputs": [
    {
     "name": "stdout",
     "output_type": "stream",
     "text": [
      "Epoch 1/10\n",
      "\u001b[1m420/420\u001b[0m \u001b[32m━━━━━━━━━━━━━━━━━━━━\u001b[0m\u001b[37m\u001b[0m \u001b[1m151s\u001b[0m 336ms/step - accuracy: 0.2953 - loss: 1.6014 - val_accuracy: 0.5897 - val_loss: 1.4036\n",
      "Epoch 2/10\n",
      "\u001b[1m420/420\u001b[0m \u001b[32m━━━━━━━━━━━━━━━━━━━━\u001b[0m\u001b[37m\u001b[0m \u001b[1m78s\u001b[0m 185ms/step - accuracy: 0.9143 - loss: 0.2800 - val_accuracy: 0.7303 - val_loss: 0.6867\n",
      "Epoch 3/10\n",
      "\u001b[1m420/420\u001b[0m \u001b[32m━━━━━━━━━━━━━━━━━━━━\u001b[0m\u001b[37m\u001b[0m \u001b[1m75s\u001b[0m 178ms/step - accuracy: 0.9775 - loss: 0.0803 - val_accuracy: 0.9692 - val_loss: 0.1034\n",
      "Epoch 4/10\n",
      "\u001b[1m420/420\u001b[0m \u001b[32m━━━━━━━━━━━━━━━━━━━━\u001b[0m\u001b[37m\u001b[0m \u001b[1m75s\u001b[0m 178ms/step - accuracy: 0.9874 - loss: 0.0442 - val_accuracy: 0.9639 - val_loss: 0.1185\n",
      "Epoch 5/10\n",
      "\u001b[1m420/420\u001b[0m \u001b[32m━━━━━━━━━━━━━━━━━━━━\u001b[0m\u001b[37m\u001b[0m \u001b[1m75s\u001b[0m 177ms/step - accuracy: 0.9907 - loss: 0.0321 - val_accuracy: 0.9672 - val_loss: 0.1172\n",
      "Epoch 6/10\n",
      "\u001b[1m420/420\u001b[0m \u001b[32m━━━━━━━━━━━━━━━━━━━━\u001b[0m\u001b[37m\u001b[0m \u001b[1m75s\u001b[0m 180ms/step - accuracy: 0.9942 - loss: 0.0229 - val_accuracy: 0.9618 - val_loss: 0.1364\n",
      "Epoch 7/10\n",
      "\u001b[1m420/420\u001b[0m \u001b[32m━━━━━━━━━━━━━━━━━━━━\u001b[0m\u001b[37m\u001b[0m \u001b[1m75s\u001b[0m 179ms/step - accuracy: 0.9909 - loss: 0.0279 - val_accuracy: 0.9699 - val_loss: 0.1354\n",
      "Epoch 8/10\n",
      "\u001b[1m420/420\u001b[0m \u001b[32m━━━━━━━━━━━━━━━━━━━━\u001b[0m\u001b[37m\u001b[0m \u001b[1m75s\u001b[0m 178ms/step - accuracy: 0.9910 - loss: 0.0309 - val_accuracy: 0.9752 - val_loss: 0.1023\n",
      "Epoch 9/10\n",
      "\u001b[1m420/420\u001b[0m \u001b[32m━━━━━━━━━━━━━━━━━━━━\u001b[0m\u001b[37m\u001b[0m \u001b[1m75s\u001b[0m 178ms/step - accuracy: 0.9910 - loss: 0.0268 - val_accuracy: 0.9793 - val_loss: 0.0842\n",
      "Epoch 10/10\n",
      "\u001b[1m420/420\u001b[0m \u001b[32m━━━━━━━━━━━━━━━━━━━━\u001b[0m\u001b[37m\u001b[0m \u001b[1m83s\u001b[0m 181ms/step - accuracy: 0.9951 - loss: 0.0195 - val_accuracy: 0.9605 - val_loss: 0.1739\n"
     ]
    }
   ],
   "source": [
    "# Compile the model with the Adam optimizer, sparse categorical crossentropy loss, and accuracy metric\n",
    "model.compile(optimizer=Adam(learning_rate=0.001), loss='sparse_categorical_crossentropy', metrics=['accuracy'])\n",
    "\n",
    "# Train the model on the training data\n",
    "history = model.fit(\n",
    "    X_train, y_train,  # Training data and labels\n",
    "    epochs=10,  # Number of epochs to train the model\n",
    "    batch_size=32,  # Number of samples per gradient update\n",
    "    validation_split=0.1,  # Fraction of the training data to be used as validation data\n",
    "    verbose=1  # Verbosity mode (1 = progress bar)\n",
    ")"
   ]
  },
  {
   "cell_type": "code",
   "execution_count": 15,
   "metadata": {},
   "outputs": [
    {
     "name": "stdout",
     "output_type": "stream",
     "text": [
      "Test Accuracy: 0.9577\n"
     ]
    }
   ],
   "source": [
    "# Evaluate the model on the test dataset\n",
    "test_loss, test_accuracy = model.evaluate(X_test, y_test, verbose=0)\n",
    "# Print the test accuracy with 4 decimal places\n",
    "print(f'Test Accuracy: {test_accuracy:.4f}')"
   ]
  },
  {
   "cell_type": "code",
   "execution_count": 19,
   "metadata": {},
   "outputs": [
    {
     "name": "stderr",
     "output_type": "stream",
     "text": [
      "WARNING:absl:You are saving your model as an HDF5 file via `model.save()` or `keras.saving.save_model(model)`. This file format is considered legacy. We recommend using instead the native Keras format, e.g. `model.save('my_model.keras')` or `keras.saving.save_model(model, 'my_model.keras')`. \n"
     ]
    },
    {
     "data": {
      "text/plain": [
       "['label_encoder.jb']"
      ]
     },
     "execution_count": 19,
     "metadata": {},
     "output_type": "execute_result"
    }
   ],
   "source": [
    "# Import the joblib library for saving Python objects\n",
    "import joblib\n",
    "\n",
    "# Save the trained model to a file named \"emotion_model.h5\"\n",
    "model.save(\"emotion_model.h5\")\n",
    "\n",
    "# Save the tokenizer object to a file named \"tokenizer.jb\"\n",
    "joblib.dump(tokenizer, \"tokenizer.jb\")\n",
    "\n",
    "# Save the label encoder object to a file named \"label_encoder.jb\"\n",
    "joblib.dump(label_encoder, \"label_encoder.jb\")"
   ]
  }
 ],
 "metadata": {
  "kernelspec": {
   "display_name": "venv",
   "language": "python",
   "name": "python3"
  },
  "language_info": {
   "codemirror_mode": {
    "name": "ipython",
    "version": 3
   },
   "file_extension": ".py",
   "mimetype": "text/x-python",
   "name": "python",
   "nbconvert_exporter": "python",
   "pygments_lexer": "ipython3",
   "version": "3.12.1"
  }
 },
 "nbformat": 4,
 "nbformat_minor": 2
}
